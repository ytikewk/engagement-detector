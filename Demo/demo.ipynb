{
 "cells": [
  {
   "cell_type": "code",
   "execution_count": 2,
   "metadata": {},
   "outputs": [],
   "source": [
    "import pandas as pd\n",
    "import numpy as np\n",
    "from tqdm import tqdm\n",
    "import glob, os, re\n",
    "import xarray as xr\n",
    "from  imblearn.ensemble import *\n",
    "from sklearn.model_selection import train_test_split\n",
    "import seaborn as sns\n",
    "from sklearn.model_selection import cross_val_scores\n",
    "\n",
    "from sklearn.ensemble import RandomForestClassifier\n",
    "from sklearn.model_selection import RandomizedSearchCV, GridSearchCV\n",
    "\n",
    "from sklearn.metrics import confusion_matrix,make_scorer\n",
    "from collections import Counter\n",
    "import pydotplus\n",
    "# from sklearn.datasets import load_iris\n",
    "from sklearn import tree\n",
    "import joblib"
   ]
  },
  {
   "cell_type": "markdown",
   "metadata": {},
   "source": [
    "Here directly use processed data"
   ]
  },
  {
   "cell_type": "code",
   "execution_count": 9,
   "metadata": {
    "scrolled": true
   },
   "outputs": [
    {
     "data": {
      "text/plain": [
       "array([1.])"
      ]
     },
     "execution_count": 9,
     "metadata": {},
     "output_type": "execute_result"
    }
   ],
   "source": [
    "trail = pd.read_csv('/home/ytikewk/git/engagement-detector/Untitled Folder/data.csv',index_col=0)\n",
    "brf = joblib.load('/home/ytikewk/git/engagement-detector/Untitled Folder/model.joblib')\n",
    "brf.predict(np.array(trail).reshape(1, -1))"
   ]
  },
  {
   "cell_type": "code",
   "execution_count": 12,
   "metadata": {},
   "outputs": [
    {
     "data": {
      "text/plain": [
       "[('eyebrow', 569),\n",
       " (' gaze', 458),\n",
       " (' pose', 408),\n",
       " ('eye', 373),\n",
       " ('face', 243),\n",
       " ('mouth', 219),\n",
       " ('nose', 215),\n",
       " ('el2', 158),\n",
       " ('el1', 142),\n",
       " (' AU17', 113)]"
      ]
     },
     "execution_count": 12,
     "metadata": {},
     "output_type": "execute_result"
    }
   ],
   "source": [
    "#########################################################\n",
    "samples = np.array(trail).reshape(1, -1)\n",
    "#########################################################\n",
    "\n",
    "\n",
    "label_only_in_path_have = []\n",
    "label_only_in_path_dont_have = []\n",
    "\n",
    "for i in range(len(brf)):\n",
    "    estimator = brf.estimators_[i]\n",
    "    label_in_path = []\n",
    "\n",
    "    # get the feature\n",
    "    features = estimator.tree_.feature\n",
    "\n",
    "    # get the path for the instance\n",
    "    # path = estimator.decision_path(np.array(data_frame_val)[0,:].reshape(1,-1))\n",
    "    # estimator.predict(np.array(X_test)[0,:].reshape(1,-1))\n",
    "    path = estimator.decision_path(samples)\n",
    "    path_array = path.toarray()\n",
    "\n",
    "    # connect feature and path\n",
    "    pf_num = []\n",
    "    for n, i in enumerate(path_array[0]):\n",
    "        if i == 1 and features[n] != -2:\n",
    "            pf_num.append(features[n])\n",
    "\n",
    "    pf_label = []\n",
    "    for n, i in enumerate(pf_num):\n",
    "        pf_label.append(trail.index[i])\n",
    "\n",
    "    label_in_path = pf_label\n",
    "    # label including std/mean/min/max...\n",
    "    for m in range(len(label_in_path)):\n",
    "        # bund = label_in_path[m][0].rfind(' &le')\n",
    "        label_only_in_path_have.append(label_in_path[m])\n",
    "\n",
    "    # label dont have std/mean/min/max...\n",
    "    for m in range(len(label_in_path)):\n",
    "        bund = label_in_path[m].find('_')\n",
    "        label_only_in_path_dont_have.append(label_in_path[m][:bund])\n",
    "\n",
    "detail_1 = Counter(label_only_in_path_dont_have)\n",
    "x_haveMean = detail_1.most_common(n=10)\n",
    "x_haveMean"
   ]
  },
  {
   "cell_type": "markdown",
   "metadata": {},
   "source": [
    "The result also can be merged, ie. face+nose+pose, they all represent the head location and rotation"
   ]
  }
 ],
 "metadata": {
  "kernelspec": {
   "display_name": "Python [conda env:py3_copy] *",
   "language": "python",
   "name": "conda-env-py3_copy-py"
  },
  "language_info": {
   "codemirror_mode": {
    "name": "ipython",
    "version": 3
   },
   "file_extension": ".py",
   "mimetype": "text/x-python",
   "name": "python",
   "nbconvert_exporter": "python",
   "pygments_lexer": "ipython3",
   "version": "3.6.10"
  }
 },
 "nbformat": 4,
 "nbformat_minor": 4
}

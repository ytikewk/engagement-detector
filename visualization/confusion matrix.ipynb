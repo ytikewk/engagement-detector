{
 "cells": [
  {
   "cell_type": "code",
   "execution_count": 1,
   "metadata": {},
   "outputs": [],
   "source": [
    "import pandas as pd\n",
    "import numpy as np\n",
    "from tqdm import tqdm\n",
    "import glob, os, re\n",
    "import xarray as xr\n",
    "from  imblearn.ensemble import *\n",
    "from sklearn.model_selection import train_test_split\n",
    "import seaborn as sns\n",
    "from sklearn.model_selection import cross_val_score\n",
    "from sklearn.ensemble import RandomForestClassifier\n",
    "from sklearn.model_selection import RandomizedSearchCV, GridSearchCV\n",
    "\n",
    "from sklearn.metrics import confusion_matrix,make_scorer\n",
    "from collections import Counter\n",
    "import pydotplus\n",
    "# from sklearn.datasets import load_iris\n",
    "from sklearn import tree\n",
    "#from getData import get_test_data,get_train_data,get_val_data\n",
    "#from resultAnalysis import get_fault_instance,model_scores,all_datas\n",
    "#from  trail import all_datas,model_scores,get_fault_instance\n",
    "os.chdir('/home/ytikewk/python_project/daisee_detect')"
   ]
  },
  {
   "cell_type": "code",
   "execution_count": 3,
   "metadata": {},
   "outputs": [],
   "source": [
    "# %%\n",
    "def make_2Label(label):\n",
    "    l2 = np.zeros(len(label))\n",
    "    for i in range(len(label)):\n",
    "        if label[i] > 1:\n",
    "            l2[i] = 1\n",
    "        else:\n",
    "            l2[i] = 0\n",
    "\n",
    "    return l2\n"
   ]
  },
  {
   "cell_type": "code",
   "execution_count": 4,
   "metadata": {},
   "outputs": [
    {
     "name": "stdout",
     "output_type": "stream",
     "text": [
      "Counter({2: 4421, 3: 3984, 1: 455, 0: 61})\n",
      "Counter({1.0: 8405, 0.0: 516})\n"
     ]
    }
   ],
   "source": [
    "# get label\n",
    "label4 = np.load('/home/ytikewk/python_project/daisee_detect/selected4pData_target.npy')\n",
    "label2= make_2Label(label4)\n",
    "print(Counter(label4))\n",
    "print(Counter(label2))"
   ]
  },
  {
   "cell_type": "code",
   "execution_count": 5,
   "metadata": {},
   "outputs": [],
   "source": [
    "# %% 19.00 in 14/8\n",
    "# this data including 20 openpose point, openface,\n",
    "# face landmark (different part shape,location)\n",
    "data = pd.read_csv('/home/ytikewk/python_project/daisee_detect/dataprocess/finall_process.csv',index_col=0)\n",
    "full_data = data\n",
    "full_label = label2"
   ]
  },
  {
   "cell_type": "code",
   "execution_count": 6,
   "metadata": {
    "scrolled": true
   },
   "outputs": [
    {
     "name": "stdout",
     "output_type": "stream",
     "text": [
      "Counter({2: 1116, 3: 987, 1: 109, 0: 19})\n",
      "Counter({2: 3305, 3: 2997, 1: 346, 0: 42})\n"
     ]
    }
   ],
   "source": [
    "# %%\n",
    "X_train,X_test,y_train,y_test = train_test_split(full_data,label4,test_size=0.25)\n",
    "\n",
    "# os.chdir('/media/ytikewk/76627FE2627FA591/dataset/DAiSEE/DAiSEE/tree_png')\n",
    "print(Counter(y_test))\n",
    "print(Counter(y_train))"
   ]
  },
  {
   "cell_type": "code",
   "execution_count": 7,
   "metadata": {
    "scrolled": true
   },
   "outputs": [
    {
     "name": "stdout",
     "output_type": "stream",
     "text": [
      "[[  8   6   2   3]\n",
      " [ 22  41  20  26]\n",
      " [151 226 311 428]\n",
      " [ 81 181 235 490]]\n"
     ]
    },
    {
     "ename": "NameError",
     "evalue": "name 'score_disengage' is not defined",
     "output_type": "error",
     "traceback": [
      "\u001b[0;31m---------------------------------------------------------------------------\u001b[0m",
      "\u001b[0;31mNameError\u001b[0m                                 Traceback (most recent call last)",
      "\u001b[0;32m<ipython-input-7-6d9bd0632c11>\u001b[0m in \u001b[0;36m<module>\u001b[0;34m\u001b[0m\n\u001b[1;32m      4\u001b[0m \u001b[0mpredict_prob_brf\u001b[0m \u001b[0;34m=\u001b[0m \u001b[0mbrf\u001b[0m\u001b[0;34m.\u001b[0m\u001b[0mpredict_proba\u001b[0m\u001b[0;34m(\u001b[0m\u001b[0mX_test\u001b[0m\u001b[0;34m)\u001b[0m\u001b[0;34m\u001b[0m\u001b[0;34m\u001b[0m\u001b[0m\n\u001b[1;32m      5\u001b[0m \u001b[0mprint\u001b[0m\u001b[0;34m(\u001b[0m\u001b[0mconfusion_matrix\u001b[0m\u001b[0;34m(\u001b[0m\u001b[0my_test\u001b[0m\u001b[0;34m,\u001b[0m\u001b[0mpredict_brf\u001b[0m\u001b[0;34m)\u001b[0m\u001b[0;34m)\u001b[0m\u001b[0;34m\u001b[0m\u001b[0;34m\u001b[0m\u001b[0m\n\u001b[0;32m----> 6\u001b[0;31m \u001b[0mscore_disengage\u001b[0m\u001b[0;34m(\u001b[0m\u001b[0my_test\u001b[0m\u001b[0;34m,\u001b[0m\u001b[0mpredict_brf\u001b[0m\u001b[0;34m)\u001b[0m\u001b[0;34m\u001b[0m\u001b[0;34m\u001b[0m\u001b[0m\n\u001b[0m",
      "\u001b[0;31mNameError\u001b[0m: name 'score_disengage' is not defined"
     ]
    }
   ],
   "source": [
    "brf = BalancedRandomForestClassifier(n_jobs=5)\n",
    "brf.fit(X_train,y_train)\n",
    "predict_brf = brf.predict(X_test)\n",
    "predict_prob_brf = brf.predict_proba(X_test)\n",
    "print(confusion_matrix(y_test,predict_brf))\n",
    "# score_disengage(y_test,predict_brf)"
   ]
  },
  {
   "cell_type": "code",
   "execution_count": 10,
   "metadata": {
    "scrolled": true
   },
   "outputs": [
    {
     "data": {
      "image/png": "[encoded data removed]",
      "text/plain": [
       "<Figure size 432x288 with 2 Axes>"
      ]
     },
     "metadata": {
      "needs_background": "light"
     },
     "output_type": "display_data"
    }
   ],
   "source": [
    "\n",
    "from sklearn.metrics import confusion_matrix\n",
    "from sklearn.metrics import recall_score\n",
    "import matplotlib.pyplot as plt\n",
    " \n",
    "guess = predict_brf\n",
    "fact = y_test\n",
    "classes = list(set(fact))\n",
    "classes.sort()\n",
    "confusion = confusion_matrix(guess, fact)\n",
    "plt.imshow(confusion, cmap=plt.cm.Blues)\n",
    "indices = range(len(confusion))\n",
    "plt.xticks(indices, classes)\n",
    "plt.yticks(indices, classes)\n",
    "plt.colorbar()\n",
    "plt.xlabel('Predict label')\n",
    "plt.ylabel('Actual label')\n",
    "for first_index in range(len(confusion)):\n",
    "    for second_index in range(len(confusion[first_index])):\n",
    "        plt.text(first_index, second_index, confusion[first_index][second_index])\n",
    " \n",
    "# plt.show()\n",
    "plt.savefig('/home/ytikewk/python_project/daisee_detect/figures/4levelConfusionMat')"
   ]
  },
  {
   "cell_type": "code",
   "execution_count": 11,
   "metadata": {
    "scrolled": true
   },
   "outputs": [
    {
     "name": "stdout",
     "output_type": "stream",
     "text": [
      "Counter({1.0: 2110, 0.0: 121})\n",
      "Counter({1.0: 6295, 0.0: 395})\n"
     ]
    }
   ],
   "source": [
    "# %%\n",
    "X_train,X_test,y_train,y_test = train_test_split(full_data,label2,test_size=0.25)\n",
    "\n",
    "# os.chdir('/media/ytikewk/76627FE2627FA591/dataset/DAiSEE/DAiSEE/tree_png')\n",
    "print(Counter(y_test))\n",
    "print(Counter(y_train))"
   ]
  },
  {
   "cell_type": "code",
   "execution_count": 12,
   "metadata": {
    "scrolled": true
   },
   "outputs": [
    {
     "name": "stdout",
     "output_type": "stream",
     "text": [
      "[[  93   28]\n",
      " [ 701 1409]]\n"
     ]
    }
   ],
   "source": [
    "brf = BalancedRandomForestClassifier(n_jobs=5)\n",
    "brf.fit(X_train,y_train)\n",
    "predict_brf = brf.predict(X_test)\n",
    "predict_prob_brf = brf.predict_proba(X_test)\n",
    "print(confusion_matrix(y_test,predict_brf))\n",
    "# score_disengage(y_test,predict_brf)"
   ]
  },
  {
   "cell_type": "code",
   "execution_count": 14,
   "metadata": {
    "scrolled": true
   },
   "outputs": [
    {
     "data": {
      "image/png": "[encoded data removed]",
      "text/plain": [
       "<Figure size 432x288 with 2 Axes>"
      ]
     },
     "metadata": {
      "needs_background": "light"
     },
     "output_type": "display_data"
    }
   ],
   "source": [
    "\n",
    "from sklearn.metrics import confusion_matrix\n",
    "from sklearn.metrics import recall_score\n",
    "import matplotlib.pyplot as plt\n",
    " \n",
    "guess = predict_brf\n",
    "fact = y_test\n",
    "classes = list(set(fact))\n",
    "classes.sort()\n",
    "confusion = confusion_matrix(guess, fact)\n",
    "plt.imshow(confusion, cmap=plt.cm.Blues)\n",
    "indices = range(len(confusion))\n",
    "plt.xticks(indices, classes)\n",
    "plt.yticks(indices, classes)\n",
    "plt.colorbar()\n",
    "plt.xlabel('Predict label')\n",
    "plt.ylabel('Actual label')\n",
    "for first_index in range(len(confusion)):\n",
    "    for second_index in range(len(confusion[first_index])):\n",
    "        plt.text(first_index, second_index, confusion[first_index][second_index])\n",
    " \n",
    "# plt.show()\n",
    "plt.savefig('/home/ytikewk/python_project/daisee_detect/figures/2levelConfusionMat')"
   ]
  },
  {
   "cell_type": "code",
   "execution_count": null,
   "metadata": {},
   "outputs": [],
   "source": []
  }
 ],
 "metadata": {
  "kernelspec": {
   "display_name": "Python [conda env:py3_copy] *",
   "language": "python",
   "name": "conda-env-py3_copy-py"
  },
  "language_info": {
   "codemirror_mode": {
    "name": "ipython",
    "version": 3
   },
   "file_extension": ".py",
   "mimetype": "text/x-python",
   "name": "python",
   "nbconvert_exporter": "python",
   "pygments_lexer": "ipython3",
   "version": "3.6.10"
  }
 },
 "nbformat": 4,
 "nbformat_minor": 4
}
